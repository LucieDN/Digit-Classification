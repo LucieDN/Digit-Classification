{
 "cells": [
  {
   "cell_type": "markdown",
   "metadata": {},
   "source": [
    "# MNIST Digits classification with Neural Networks"
   ]
  },
  {
   "cell_type": "markdown",
   "metadata": {},
   "source": [
    "## 1. Installations and importations"
   ]
  },
  {
   "cell_type": "code",
   "execution_count": 24,
   "metadata": {},
   "outputs": [
    {
     "name": "stdout",
     "output_type": "stream",
     "text": [
      "Requirement already satisfied: matplotlib in c:\\users\\della\\anaconda3\\envs\\tf\\lib\\site-packages (3.9.0)\n",
      "Requirement already satisfied: contourpy>=1.0.1 in c:\\users\\della\\anaconda3\\envs\\tf\\lib\\site-packages (from matplotlib) (1.2.1)\n",
      "Requirement already satisfied: cycler>=0.10 in c:\\users\\della\\anaconda3\\envs\\tf\\lib\\site-packages (from matplotlib) (0.12.1)\n",
      "Requirement already satisfied: fonttools>=4.22.0 in c:\\users\\della\\anaconda3\\envs\\tf\\lib\\site-packages (from matplotlib) (4.53.0)\n",
      "Requirement already satisfied: kiwisolver>=1.3.1 in c:\\users\\della\\anaconda3\\envs\\tf\\lib\\site-packages (from matplotlib) (1.4.5)\n",
      "Requirement already satisfied: numpy>=1.23 in c:\\users\\della\\anaconda3\\envs\\tf\\lib\\site-packages (from matplotlib) (1.26.4)\n",
      "Requirement already satisfied: packaging>=20.0 in c:\\users\\della\\anaconda3\\envs\\tf\\lib\\site-packages (from matplotlib) (23.2)\n",
      "Requirement already satisfied: pillow>=8 in c:\\users\\della\\anaconda3\\envs\\tf\\lib\\site-packages (from matplotlib) (10.3.0)\n",
      "Requirement already satisfied: pyparsing>=2.3.1 in c:\\users\\della\\anaconda3\\envs\\tf\\lib\\site-packages (from matplotlib) (3.1.2)\n",
      "Requirement already satisfied: python-dateutil>=2.7 in c:\\users\\della\\anaconda3\\envs\\tf\\lib\\site-packages (from matplotlib) (2.9.0)\n",
      "Requirement already satisfied: six>=1.5 in c:\\users\\della\\anaconda3\\envs\\tf\\lib\\site-packages (from python-dateutil>=2.7->matplotlib) (1.16.0)\n",
      "Note: you may need to restart the kernel to use updated packages.\n",
      "Collecting scikit-learn\n",
      "  Downloading scikit_learn-1.5.0-cp310-cp310-win_amd64.whl.metadata (11 kB)\n",
      "Requirement already satisfied: numpy>=1.19.5 in c:\\users\\della\\anaconda3\\envs\\tf\\lib\\site-packages (from scikit-learn) (1.26.4)\n",
      "Requirement already satisfied: scipy>=1.6.0 in c:\\users\\della\\anaconda3\\envs\\tf\\lib\\site-packages (from scikit-learn) (1.13.1)\n",
      "Collecting joblib>=1.2.0 (from scikit-learn)\n",
      "  Downloading joblib-1.4.2-py3-none-any.whl.metadata (5.4 kB)\n",
      "Collecting threadpoolctl>=3.1.0 (from scikit-learn)\n",
      "  Downloading threadpoolctl-3.5.0-py3-none-any.whl.metadata (13 kB)\n",
      "Downloading scikit_learn-1.5.0-cp310-cp310-win_amd64.whl (11.0 MB)\n",
      "   ---------------------------------------- 0.0/11.0 MB ? eta -:--:--\n",
      "   ---------------------------------------- 0.0/11.0 MB 660.6 kB/s eta 0:00:17\n",
      "   ---------------------------------------- 0.1/11.0 MB 812.7 kB/s eta 0:00:14\n",
      "   ---------------------------------------- 0.1/11.0 MB 819.2 kB/s eta 0:00:14\n",
      "   ---------------------------------------- 0.1/11.0 MB 819.2 kB/s eta 0:00:14\n",
      "   ---------------------------------------- 0.1/11.0 MB 819.2 kB/s eta 0:00:14\n",
      "    --------------------------------------- 0.2/11.0 MB 655.4 kB/s eta 0:00:17\n",
      "   - -------------------------------------- 0.3/11.0 MB 850.6 kB/s eta 0:00:13\n",
      "   - -------------------------------------- 0.3/11.0 MB 827.2 kB/s eta 0:00:13\n",
      "   - -------------------------------------- 0.3/11.0 MB 838.1 kB/s eta 0:00:13\n",
      "   - -------------------------------------- 0.3/11.0 MB 838.1 kB/s eta 0:00:13\n",
      "   - -------------------------------------- 0.4/11.0 MB 716.8 kB/s eta 0:00:15\n",
      "   - -------------------------------------- 0.5/11.0 MB 842.4 kB/s eta 0:00:13\n",
      "   - -------------------------------------- 0.5/11.0 MB 862.0 kB/s eta 0:00:13\n",
      "   -- ------------------------------------- 0.6/11.0 MB 846.7 kB/s eta 0:00:13\n",
      "   -- ------------------------------------- 0.6/11.0 MB 863.3 kB/s eta 0:00:12\n",
      "   -- ------------------------------------- 0.6/11.0 MB 868.8 kB/s eta 0:00:12\n",
      "   -- ------------------------------------- 0.7/11.0 MB 873.8 kB/s eta 0:00:12\n",
      "   -- ------------------------------------- 0.7/11.0 MB 843.9 kB/s eta 0:00:13\n",
      "   -- ------------------------------------- 0.7/11.0 MB 858.3 kB/s eta 0:00:12\n",
      "   -- ------------------------------------- 0.8/11.0 MB 862.0 kB/s eta 0:00:12\n",
      "   -- ------------------------------------- 0.8/11.0 MB 862.0 kB/s eta 0:00:12\n",
      "   -- ------------------------------------- 0.8/11.0 MB 862.0 kB/s eta 0:00:12\n",
      "   -- ------------------------------------- 0.8/11.0 MB 862.0 kB/s eta 0:00:12\n",
      "   -- ------------------------------------- 0.8/11.0 MB 862.0 kB/s eta 0:00:12\n",
      "   -- ------------------------------------- 0.8/11.0 MB 862.0 kB/s eta 0:00:12\n",
      "   --- ------------------------------------ 0.9/11.0 MB 725.2 kB/s eta 0:00:14\n",
      "   --- ------------------------------------ 0.9/11.0 MB 713.6 kB/s eta 0:00:15\n",
      "   --- ------------------------------------ 0.9/11.0 MB 728.0 kB/s eta 0:00:14\n",
      "   --- ------------------------------------ 1.0/11.0 MB 733.1 kB/s eta 0:00:14\n",
      "   --- ------------------------------------ 1.0/11.0 MB 738.4 kB/s eta 0:00:14\n",
      "   --- ------------------------------------ 1.1/11.0 MB 742.9 kB/s eta 0:00:14\n",
      "   ---- ----------------------------------- 1.1/11.0 MB 754.1 kB/s eta 0:00:14\n",
      "   ---- ----------------------------------- 1.1/11.0 MB 750.9 kB/s eta 0:00:14\n",
      "   ---- ----------------------------------- 1.2/11.0 MB 754.6 kB/s eta 0:00:13\n",
      "   ---- ----------------------------------- 1.2/11.0 MB 759.2 kB/s eta 0:00:13\n",
      "   ---- ----------------------------------- 1.2/11.0 MB 756.2 kB/s eta 0:00:13\n",
      "   ---- ----------------------------------- 1.3/11.0 MB 765.5 kB/s eta 0:00:13\n",
      "   ---- ----------------------------------- 1.3/11.0 MB 769.7 kB/s eta 0:00:13\n",
      "   ---- ----------------------------------- 1.4/11.0 MB 773.6 kB/s eta 0:00:13\n",
      "   ----- ---------------------------------- 1.4/11.0 MB 770.4 kB/s eta 0:00:13\n",
      "   ----- ---------------------------------- 1.4/11.0 MB 778.6 kB/s eta 0:00:13\n",
      "   ----- ---------------------------------- 1.5/11.0 MB 775.5 kB/s eta 0:00:13\n",
      "   ----- ---------------------------------- 1.5/11.0 MB 776.7 kB/s eta 0:00:13\n",
      "   ----- ---------------------------------- 1.5/11.0 MB 780.1 kB/s eta 0:00:13\n",
      "   ----- ---------------------------------- 1.6/11.0 MB 781.5 kB/s eta 0:00:12\n",
      "   ----- ---------------------------------- 1.6/11.0 MB 783.5 kB/s eta 0:00:12\n",
      "   ------ --------------------------------- 1.7/11.0 MB 785.5 kB/s eta 0:00:12\n",
      "   ------ --------------------------------- 1.7/11.0 MB 788.4 kB/s eta 0:00:12\n",
      "   ------ --------------------------------- 1.8/11.0 MB 794.8 kB/s eta 0:00:12\n",
      "   ------ --------------------------------- 1.8/11.0 MB 791.9 kB/s eta 0:00:12\n",
      "   ------ --------------------------------- 1.8/11.0 MB 798.0 kB/s eta 0:00:12\n",
      "   ------ --------------------------------- 1.9/11.0 MB 790.0 kB/s eta 0:00:12\n",
      "   ------ --------------------------------- 1.9/11.0 MB 792.3 kB/s eta 0:00:12\n",
      "   ------- -------------------------------- 1.9/11.0 MB 799.1 kB/s eta 0:00:12\n",
      "   ------- -------------------------------- 2.0/11.0 MB 800.5 kB/s eta 0:00:12\n",
      "   ------- -------------------------------- 2.0/11.0 MB 805.9 kB/s eta 0:00:12\n",
      "   ------- -------------------------------- 2.1/11.0 MB 798.4 kB/s eta 0:00:12\n",
      "   ------- -------------------------------- 2.1/11.0 MB 799.7 kB/s eta 0:00:12\n",
      "   ------- -------------------------------- 2.2/11.0 MB 804.8 kB/s eta 0:00:11\n",
      "   ------- -------------------------------- 2.2/11.0 MB 806.9 kB/s eta 0:00:11\n",
      "   -------- ------------------------------- 2.2/11.0 MB 811.8 kB/s eta 0:00:11\n",
      "   -------- ------------------------------- 2.3/11.0 MB 809.1 kB/s eta 0:00:11\n",
      "   -------- ------------------------------- 2.3/11.0 MB 806.5 kB/s eta 0:00:11\n",
      "   -------- ------------------------------- 2.4/11.0 MB 811.1 kB/s eta 0:00:11\n",
      "   -------- ------------------------------- 2.4/11.0 MB 813.0 kB/s eta 0:00:11\n",
      "   -------- ------------------------------- 2.4/11.0 MB 814.9 kB/s eta 0:00:11\n",
      "   --------- ------------------------------ 2.5/11.0 MB 810.8 kB/s eta 0:00:11\n",
      "   --------- ------------------------------ 2.5/11.0 MB 815.1 kB/s eta 0:00:11\n",
      "   --------- ------------------------------ 2.5/11.0 MB 812.6 kB/s eta 0:00:11\n",
      "   --------- ------------------------------ 2.6/11.0 MB 816.7 kB/s eta 0:00:11\n",
      "   --------- ------------------------------ 2.6/11.0 MB 817.5 kB/s eta 0:00:11\n",
      "   --------- ------------------------------ 2.7/11.0 MB 818.3 kB/s eta 0:00:11\n",
      "   --------- ------------------------------ 2.7/11.0 MB 819.1 kB/s eta 0:00:11\n",
      "   ---------- ----------------------------- 2.8/11.0 MB 820.1 kB/s eta 0:00:10\n",
      "   ---------- ----------------------------- 2.8/11.0 MB 820.8 kB/s eta 0:00:10\n",
      "   ---------- ----------------------------- 2.8/11.0 MB 821.5 kB/s eta 0:00:10\n",
      "   ---------- ----------------------------- 2.9/11.0 MB 822.1 kB/s eta 0:00:10\n",
      "   ---------- ----------------------------- 2.9/11.0 MB 822.1 kB/s eta 0:00:10\n",
      "   ---------- ----------------------------- 3.0/11.0 MB 820.6 kB/s eta 0:00:10\n",
      "   ---------- ----------------------------- 3.0/11.0 MB 820.6 kB/s eta 0:00:10\n",
      "   ---------- ----------------------------- 3.0/11.0 MB 820.6 kB/s eta 0:00:10\n",
      "   ---------- ----------------------------- 3.0/11.0 MB 804.7 kB/s eta 0:00:10\n",
      "   ----------- ---------------------------- 3.0/11.0 MB 801.6 kB/s eta 0:00:10\n",
      "   ----------- ---------------------------- 3.1/11.0 MB 799.8 kB/s eta 0:00:10\n",
      "   ----------- ---------------------------- 3.1/11.0 MB 803.3 kB/s eta 0:00:10\n",
      "   ----------- ---------------------------- 3.2/11.0 MB 804.8 kB/s eta 0:00:10\n",
      "   ----------- ---------------------------- 3.2/11.0 MB 805.0 kB/s eta 0:00:10\n",
      "   ----------- ---------------------------- 3.3/11.0 MB 808.3 kB/s eta 0:00:10\n",
      "   ----------- ---------------------------- 3.3/11.0 MB 806.5 kB/s eta 0:00:10\n",
      "   ------------ --------------------------- 3.3/11.0 MB 806.8 kB/s eta 0:00:10\n",
      "   ------------ --------------------------- 3.4/11.0 MB 807.5 kB/s eta 0:00:10\n",
      "   ------------ --------------------------- 3.4/11.0 MB 810.7 kB/s eta 0:00:10\n",
      "   ------------ --------------------------- 3.5/11.0 MB 808.9 kB/s eta 0:00:10\n",
      "   ------------ --------------------------- 3.5/11.0 MB 809.2 kB/s eta 0:00:10\n",
      "   ------------- -------------------------- 3.6/11.0 MB 812.2 kB/s eta 0:00:10\n",
      "   ------------- -------------------------- 3.6/11.0 MB 811.1 kB/s eta 0:00:10\n",
      "   ------------- -------------------------- 3.6/11.0 MB 811.1 kB/s eta 0:00:10\n",
      "   ------------- -------------------------- 3.6/11.0 MB 806.1 kB/s eta 0:00:10\n",
      "   ------------- -------------------------- 3.7/11.0 MB 813.0 kB/s eta 0:00:09\n",
      "   ------------- -------------------------- 3.8/11.0 MB 813.2 kB/s eta 0:00:09\n",
      "   ------------- -------------------------- 3.8/11.0 MB 814.2 kB/s eta 0:00:09\n",
      "   ------------- -------------------------- 3.8/11.0 MB 817.5 kB/s eta 0:00:09\n",
      "   -------------- ------------------------- 3.9/11.0 MB 815.5 kB/s eta 0:00:09\n",
      "   -------------- ------------------------- 3.9/11.0 MB 816.0 kB/s eta 0:00:09\n",
      "   -------------- ------------------------- 3.9/11.0 MB 817.0 kB/s eta 0:00:09\n",
      "   -------------- ------------------------- 4.0/11.0 MB 817.1 kB/s eta 0:00:09\n",
      "   -------------- ------------------------- 4.0/11.0 MB 819.7 kB/s eta 0:00:09\n",
      "   -------------- ------------------------- 4.1/11.0 MB 820.8 kB/s eta 0:00:09\n",
      "   --------------- ------------------------ 4.1/11.0 MB 820.7 kB/s eta 0:00:09\n",
      "   --------------- ------------------------ 4.2/11.0 MB 818.7 kB/s eta 0:00:09\n",
      "   --------------- ------------------------ 4.2/11.0 MB 819.2 kB/s eta 0:00:09\n",
      "   --------------- ------------------------ 4.2/11.0 MB 819.7 kB/s eta 0:00:09\n",
      "   --------------- ------------------------ 4.3/11.0 MB 822.1 kB/s eta 0:00:09\n",
      "   --------------- ------------------------ 4.3/11.0 MB 823.1 kB/s eta 0:00:09\n",
      "   --------------- ------------------------ 4.4/11.0 MB 821.0 kB/s eta 0:00:09\n",
      "   ---------------- ----------------------- 4.4/11.0 MB 822.0 kB/s eta 0:00:08\n",
      "   ---------------- ----------------------- 4.4/11.0 MB 820.6 kB/s eta 0:00:08\n",
      "   ---------------- ----------------------- 4.5/11.0 MB 821.5 kB/s eta 0:00:08\n",
      "   ---------------- ----------------------- 4.5/11.0 MB 822.5 kB/s eta 0:00:08\n",
      "   ---------------- ----------------------- 4.5/11.0 MB 822.4 kB/s eta 0:00:08\n",
      "   ---------------- ----------------------- 4.6/11.0 MB 823.3 kB/s eta 0:00:08\n",
      "   ---------------- ----------------------- 4.6/11.0 MB 823.7 kB/s eta 0:00:08\n",
      "   ---------------- ----------------------- 4.6/11.0 MB 824.7 kB/s eta 0:00:08\n",
      "   ----------------- ---------------------- 4.7/11.0 MB 824.5 kB/s eta 0:00:08\n",
      "   ----------------- ---------------------- 4.7/11.0 MB 825.4 kB/s eta 0:00:08\n",
      "   ----------------- ---------------------- 4.8/11.0 MB 827.6 kB/s eta 0:00:08\n",
      "   ----------------- ---------------------- 4.8/11.0 MB 826.2 kB/s eta 0:00:08\n",
      "   ----------------- ---------------------- 4.9/11.0 MB 826.2 kB/s eta 0:00:08\n",
      "   ----------------- ---------------------- 4.9/11.0 MB 827.0 kB/s eta 0:00:08\n",
      "   ----------------- ---------------------- 4.9/11.0 MB 825.7 kB/s eta 0:00:08\n",
      "   ------------------ --------------------- 5.0/11.0 MB 826.5 kB/s eta 0:00:08\n",
      "   ------------------ --------------------- 5.0/11.0 MB 828.6 kB/s eta 0:00:08\n",
      "   ------------------ --------------------- 5.1/11.0 MB 828.4 kB/s eta 0:00:08\n",
      "   ------------------ --------------------- 5.1/11.0 MB 827.1 kB/s eta 0:00:08\n",
      "   ------------------ --------------------- 5.1/11.0 MB 829.1 kB/s eta 0:00:08\n",
      "   ------------------ --------------------- 5.2/11.0 MB 831.2 kB/s eta 0:00:07\n",
      "   ------------------- -------------------- 5.2/11.0 MB 829.8 kB/s eta 0:00:07\n",
      "   ------------------- -------------------- 5.3/11.0 MB 829.7 kB/s eta 0:00:07\n",
      "   ------------------- -------------------- 5.3/11.0 MB 827.2 kB/s eta 0:00:07\n",
      "   ------------------- -------------------- 5.3/11.0 MB 827.2 kB/s eta 0:00:07\n",
      "   ------------------- -------------------- 5.4/11.0 MB 830.7 kB/s eta 0:00:07\n",
      "   ------------------- -------------------- 5.4/11.0 MB 829.4 kB/s eta 0:00:07\n",
      "   ------------------- -------------------- 5.5/11.0 MB 829.3 kB/s eta 0:00:07\n",
      "   -------------------- ------------------- 5.5/11.0 MB 830.0 kB/s eta 0:00:07\n",
      "   -------------------- ------------------- 5.6/11.0 MB 830.3 kB/s eta 0:00:07\n",
      "   -------------------- ------------------- 5.6/11.0 MB 830.6 kB/s eta 0:00:07\n",
      "   -------------------- ------------------- 5.6/11.0 MB 832.4 kB/s eta 0:00:07\n",
      "   -------------------- ------------------- 5.7/11.0 MB 831.2 kB/s eta 0:00:07\n",
      "   -------------------- ------------------- 5.7/11.0 MB 831.1 kB/s eta 0:00:07\n",
      "   --------------------- ------------------ 5.8/11.0 MB 832.9 kB/s eta 0:00:07\n",
      "   --------------------- ------------------ 5.8/11.0 MB 831.7 kB/s eta 0:00:07\n",
      "   --------------------- ------------------ 5.9/11.0 MB 831.2 kB/s eta 0:00:07\n",
      "   --------------------- ------------------ 5.9/11.0 MB 832.9 kB/s eta 0:00:07\n",
      "   --------------------- ------------------ 6.0/11.0 MB 833.1 kB/s eta 0:00:07\n",
      "   --------------------- ------------------ 6.0/11.0 MB 833.4 kB/s eta 0:00:06\n",
      "   ---------------------- ----------------- 6.0/11.0 MB 833.8 kB/s eta 0:00:06\n",
      "   ---------------------- ----------------- 6.1/11.0 MB 835.7 kB/s eta 0:00:06\n",
      "   ---------------------- ----------------- 6.1/11.0 MB 832.4 kB/s eta 0:00:06\n",
      "   ---------------------- ----------------- 6.2/11.0 MB 834.5 kB/s eta 0:00:06\n",
      "   ---------------------- ----------------- 6.2/11.0 MB 835.1 kB/s eta 0:00:06\n",
      "   ---------------------- ----------------- 6.2/11.0 MB 834.0 kB/s eta 0:00:06\n",
      "   ---------------------- ----------------- 6.3/11.0 MB 835.6 kB/s eta 0:00:06\n",
      "   ----------------------- ---------------- 6.3/11.0 MB 837.2 kB/s eta 0:00:06\n",
      "   ----------------------- ---------------- 6.4/11.0 MB 837.8 kB/s eta 0:00:06\n",
      "   ----------------------- ---------------- 6.4/11.0 MB 836.7 kB/s eta 0:00:06\n",
      "   ----------------------- ---------------- 6.4/11.0 MB 836.5 kB/s eta 0:00:06\n",
      "   ----------------------- ---------------- 6.5/11.0 MB 837.1 kB/s eta 0:00:06\n",
      "   ----------------------- ---------------- 6.5/11.0 MB 836.0 kB/s eta 0:00:06\n",
      "   ----------------------- ---------------- 6.6/11.0 MB 835.9 kB/s eta 0:00:06\n",
      "   ------------------------ --------------- 6.6/11.0 MB 836.5 kB/s eta 0:00:06\n",
      "   ------------------------ --------------- 6.6/11.0 MB 835.4 kB/s eta 0:00:06\n",
      "   ------------------------ --------------- 6.7/11.0 MB 836.9 kB/s eta 0:00:06\n",
      "   ------------------------ --------------- 6.7/11.0 MB 835.4 kB/s eta 0:00:06\n",
      "   ------------------------ --------------- 6.7/11.0 MB 837.3 kB/s eta 0:00:06\n",
      "   ------------------------ --------------- 6.8/11.0 MB 836.3 kB/s eta 0:00:06\n",
      "   ------------------------ --------------- 6.8/11.0 MB 837.7 kB/s eta 0:00:05\n",
      "   ------------------------- -------------- 6.9/11.0 MB 837.9 kB/s eta 0:00:05\n",
      "   ------------------------- -------------- 6.9/11.0 MB 838.2 kB/s eta 0:00:05\n",
      "   ------------------------- -------------- 7.0/11.0 MB 836.8 kB/s eta 0:00:05\n",
      "   ------------------------- -------------- 7.0/11.0 MB 837.0 kB/s eta 0:00:05\n",
      "   ------------------------- -------------- 7.0/11.0 MB 837.0 kB/s eta 0:00:05\n",
      "   ------------------------- -------------- 7.1/11.0 MB 838.9 kB/s eta 0:00:05\n",
      "   ------------------------- -------------- 7.1/11.0 MB 837.9 kB/s eta 0:00:05\n",
      "   -------------------------- ------------- 7.2/11.0 MB 839.3 kB/s eta 0:00:05\n",
      "   -------------------------- ------------- 7.2/11.0 MB 838.3 kB/s eta 0:00:05\n",
      "   -------------------------- ------------- 7.2/11.0 MB 838.8 kB/s eta 0:00:05\n",
      "   -------------------------- ------------- 7.3/11.0 MB 838.7 kB/s eta 0:00:05\n",
      "   -------------------------- ------------- 7.3/11.0 MB 840.1 kB/s eta 0:00:05\n",
      "   -------------------------- ------------- 7.4/11.0 MB 839.1 kB/s eta 0:00:05\n",
      "   -------------------------- ------------- 7.4/11.0 MB 838.1 kB/s eta 0:00:05\n",
      "   --------------------------- ------------ 7.4/11.0 MB 841.0 kB/s eta 0:00:05\n",
      "   --------------------------- ------------ 7.5/11.0 MB 840.0 kB/s eta 0:00:05\n",
      "   --------------------------- ------------ 7.5/11.0 MB 840.5 kB/s eta 0:00:05\n",
      "   --------------------------- ------------ 7.5/11.0 MB 840.3 kB/s eta 0:00:05\n",
      "   --------------------------- ------------ 7.6/11.0 MB 839.3 kB/s eta 0:00:05\n",
      "   --------------------------- ------------ 7.6/11.0 MB 839.8 kB/s eta 0:00:04\n",
      "   --------------------------- ------------ 7.7/11.0 MB 841.1 kB/s eta 0:00:04\n",
      "   ---------------------------- ----------- 7.7/11.0 MB 841.0 kB/s eta 0:00:04\n",
      "   ---------------------------- ----------- 7.8/11.0 MB 841.2 kB/s eta 0:00:04\n",
      "   ---------------------------- ----------- 7.8/11.0 MB 841.3 kB/s eta 0:00:04\n",
      "   ---------------------------- ----------- 7.8/11.0 MB 840.4 kB/s eta 0:00:04\n",
      "   ---------------------------- ----------- 7.9/11.0 MB 841.6 kB/s eta 0:00:04\n",
      "   ---------------------------- ----------- 7.9/11.0 MB 841.6 kB/s eta 0:00:04\n",
      "   ---------------------------- ----------- 7.9/11.0 MB 834.3 kB/s eta 0:00:04\n",
      "   ---------------------------- ----------- 7.9/11.0 MB 836.3 kB/s eta 0:00:04\n",
      "   ----------------------------- ---------- 8.0/11.0 MB 836.1 kB/s eta 0:00:04\n",
      "   ----------------------------- ---------- 8.0/11.0 MB 836.0 kB/s eta 0:00:04\n",
      "   ----------------------------- ---------- 8.0/11.0 MB 835.2 kB/s eta 0:00:04\n",
      "   ----------------------------- ---------- 8.1/11.0 MB 836.4 kB/s eta 0:00:04\n",
      "   ----------------------------- ---------- 8.1/11.0 MB 835.5 kB/s eta 0:00:04\n",
      "   ----------------------------- ---------- 8.2/11.0 MB 836.0 kB/s eta 0:00:04\n",
      "   ----------------------------- ---------- 8.2/11.0 MB 836.2 kB/s eta 0:00:04\n",
      "   ----------------------------- ---------- 8.2/11.0 MB 835.9 kB/s eta 0:00:04\n",
      "   ------------------------------ --------- 8.3/11.0 MB 836.5 kB/s eta 0:00:04\n",
      "   ------------------------------ --------- 8.3/11.0 MB 837.0 kB/s eta 0:00:04\n",
      "   ------------------------------ --------- 8.3/11.0 MB 837.0 kB/s eta 0:00:04\n",
      "   ------------------------------ --------- 8.4/11.0 MB 837.3 kB/s eta 0:00:04\n",
      "   ------------------------------ --------- 8.4/11.0 MB 836.8 kB/s eta 0:00:04\n",
      "   ------------------------------ --------- 8.5/11.0 MB 837.9 kB/s eta 0:00:03\n",
      "   ------------------------------- -------- 8.5/11.0 MB 837.1 kB/s eta 0:00:03\n",
      "   ------------------------------- -------- 8.6/11.0 MB 838.3 kB/s eta 0:00:03\n",
      "   ------------------------------- -------- 8.6/11.0 MB 838.7 kB/s eta 0:00:03\n",
      "   ------------------------------- -------- 8.6/11.0 MB 839.9 kB/s eta 0:00:03\n",
      "   ------------------------------- -------- 8.7/11.0 MB 837.8 kB/s eta 0:00:03\n",
      "   ------------------------------- -------- 8.7/11.0 MB 838.3 kB/s eta 0:00:03\n",
      "   ------------------------------- -------- 8.7/11.0 MB 838.6 kB/s eta 0:00:03\n",
      "   -------------------------------- ------- 8.8/11.0 MB 838.6 kB/s eta 0:00:03\n",
      "   -------------------------------- ------- 8.8/11.0 MB 837.7 kB/s eta 0:00:03\n",
      "   -------------------------------- ------- 8.9/11.0 MB 838.9 kB/s eta 0:00:03\n",
      "   -------------------------------- ------- 8.9/11.0 MB 838.0 kB/s eta 0:00:03\n",
      "   -------------------------------- ------- 8.9/11.0 MB 838.8 kB/s eta 0:00:03\n",
      "   -------------------------------- ------- 8.9/11.0 MB 838.8 kB/s eta 0:00:03\n",
      "   -------------------------------- ------- 8.9/11.0 MB 838.8 kB/s eta 0:00:03\n",
      "   -------------------------------- ------- 8.9/11.0 MB 838.8 kB/s eta 0:00:03\n",
      "   -------------------------------- ------- 8.9/11.0 MB 838.8 kB/s eta 0:00:03\n",
      "   -------------------------------- ------- 8.9/11.0 MB 838.8 kB/s eta 0:00:03\n",
      "   -------------------------------- ------- 9.0/11.0 MB 825.3 kB/s eta 0:00:03\n",
      "   -------------------------------- ------- 9.0/11.0 MB 825.7 kB/s eta 0:00:03\n",
      "   --------------------------------- ------ 9.1/11.0 MB 825.1 kB/s eta 0:00:03\n",
      "   --------------------------------- ------ 9.1/11.0 MB 826.2 kB/s eta 0:00:03\n",
      "   --------------------------------- ------ 9.2/11.0 MB 826.6 kB/s eta 0:00:03\n",
      "   --------------------------------- ------ 9.2/11.0 MB 826.6 kB/s eta 0:00:03\n",
      "   --------------------------------- ------ 9.2/11.0 MB 825.8 kB/s eta 0:00:03\n",
      "   --------------------------------- ------ 9.3/11.0 MB 826.9 kB/s eta 0:00:03\n",
      "   ---------------------------------- ----- 9.3/11.0 MB 827.1 kB/s eta 0:00:02\n",
      "   ---------------------------------- ----- 9.4/11.0 MB 826.2 kB/s eta 0:00:02\n",
      "   ---------------------------------- ----- 9.4/11.0 MB 826.4 kB/s eta 0:00:02\n",
      "   ---------------------------------- ----- 9.5/11.0 MB 827.7 kB/s eta 0:00:02\n",
      "   ---------------------------------- ----- 9.5/11.0 MB 827.9 kB/s eta 0:00:02\n",
      "   ---------------------------------- ----- 9.5/11.0 MB 827.8 kB/s eta 0:00:02\n",
      "   ----------------------------------- ---- 9.6/11.0 MB 827.8 kB/s eta 0:00:02\n",
      "   ----------------------------------- ---- 9.6/11.0 MB 827.1 kB/s eta 0:00:02\n",
      "   ----------------------------------- ---- 9.7/11.0 MB 827.6 kB/s eta 0:00:02\n",
      "   ----------------------------------- ---- 9.7/11.0 MB 828.6 kB/s eta 0:00:02\n",
      "   ----------------------------------- ---- 9.7/11.0 MB 827.9 kB/s eta 0:00:02\n",
      "   ----------------------------------- ---- 9.8/11.0 MB 827.8 kB/s eta 0:00:02\n",
      "   ----------------------------------- ---- 9.8/11.0 MB 828.3 kB/s eta 0:00:02\n",
      "   ------------------------------------ --- 9.9/11.0 MB 828.2 kB/s eta 0:00:02\n",
      "   ------------------------------------ --- 9.9/11.0 MB 828.6 kB/s eta 0:00:02\n",
      "   ------------------------------------ --- 10.0/11.0 MB 829.7 kB/s eta 0:00:02\n",
      "   ------------------------------------ --- 10.0/11.0 MB 829.0 kB/s eta 0:00:02\n",
      "   ------------------------------------ --- 10.0/11.0 MB 829.2 kB/s eta 0:00:02\n",
      "   ------------------------------------ --- 10.1/11.0 MB 829.3 kB/s eta 0:00:02\n",
      "   ------------------------------------ --- 10.1/11.0 MB 830.3 kB/s eta 0:00:02\n",
      "   ------------------------------------- -- 10.1/11.0 MB 829.7 kB/s eta 0:00:01\n",
      "   ------------------------------------- -- 10.2/11.0 MB 830.7 kB/s eta 0:00:01\n",
      "   ------------------------------------- -- 10.2/11.0 MB 830.0 kB/s eta 0:00:01\n",
      "   ------------------------------------- -- 10.3/11.0 MB 831.9 kB/s eta 0:00:01\n",
      "   ------------------------------------- -- 10.3/11.0 MB 831.9 kB/s eta 0:00:01\n",
      "   ------------------------------------- -- 10.4/11.0 MB 837.2 kB/s eta 0:00:01\n",
      "   ------------------------------------- -- 10.4/11.0 MB 836.2 kB/s eta 0:00:01\n",
      "   -------------------------------------- - 10.4/11.0 MB 835.1 kB/s eta 0:00:01\n",
      "   -------------------------------------- - 10.5/11.0 MB 831.9 kB/s eta 0:00:01\n",
      "   -------------------------------------- - 10.5/11.0 MB 831.9 kB/s eta 0:00:01\n",
      "   -------------------------------------- - 10.5/11.0 MB 831.9 kB/s eta 0:00:01\n",
      "   -------------------------------------- - 10.6/11.0 MB 837.2 kB/s eta 0:00:01\n",
      "   -------------------------------------- - 10.6/11.0 MB 835.1 kB/s eta 0:00:01\n",
      "   -------------------------------------- - 10.7/11.0 MB 830.9 kB/s eta 0:00:01\n",
      "   ---------------------------------------  10.7/11.0 MB 831.9 kB/s eta 0:00:01\n",
      "   ---------------------------------------  10.8/11.0 MB 833.0 kB/s eta 0:00:01\n",
      "   ---------------------------------------  10.8/11.0 MB 831.9 kB/s eta 0:00:01\n",
      "   ---------------------------------------  10.9/11.0 MB 831.9 kB/s eta 0:00:01\n",
      "   ---------------------------------------  10.9/11.0 MB 833.0 kB/s eta 0:00:01\n",
      "   ---------------------------------------  10.9/11.0 MB 831.9 kB/s eta 0:00:01\n",
      "   ---------------------------------------  11.0/11.0 MB 831.9 kB/s eta 0:00:01\n",
      "   ---------------------------------------  11.0/11.0 MB 831.9 kB/s eta 0:00:01\n",
      "   ---------------------------------------  11.0/11.0 MB 831.9 kB/s eta 0:00:01\n",
      "   ---------------------------------------- 11.0/11.0 MB 823.2 kB/s eta 0:00:00\n",
      "Downloading joblib-1.4.2-py3-none-any.whl (301 kB)\n",
      "   ---------------------------------------- 0.0/301.8 kB ? eta -:--:--\n",
      "   --- ----------------------------------- 30.7/301.8 kB 660.6 kB/s eta 0:00:01\n",
      "   --------- ----------------------------- 71.7/301.8 kB 787.7 kB/s eta 0:00:01\n",
      "   -------------- ----------------------- 112.6/301.8 kB 939.4 kB/s eta 0:00:01\n",
      "   ------------------- ------------------ 153.6/301.8 kB 833.5 kB/s eta 0:00:01\n",
      "   ------------------------ ------------- 194.6/301.8 kB 908.0 kB/s eta 0:00:01\n",
      "   ----------------------------- -------- 235.5/301.8 kB 850.1 kB/s eta 0:00:01\n",
      "   -------------------------------- ----- 256.0/301.8 kB 874.6 kB/s eta 0:00:01\n",
      "   -------------------------------------- 301.8/301.8 kB 889.0 kB/s eta 0:00:00\n",
      "Downloading threadpoolctl-3.5.0-py3-none-any.whl (18 kB)\n",
      "Installing collected packages: threadpoolctl, joblib, scikit-learn\n",
      "Successfully installed joblib-1.4.2 scikit-learn-1.5.0 threadpoolctl-3.5.0\n",
      "Note: you may need to restart the kernel to use updated packages.\n"
     ]
    }
   ],
   "source": [
    "%pip install matplotlib\n",
    "%pip install scikit-learn"
   ]
  },
  {
   "cell_type": "code",
   "execution_count": 25,
   "metadata": {},
   "outputs": [
    {
     "name": "stdout",
     "output_type": "stream",
     "text": [
      "Using tensorflow version 2.10.0\n",
      "Using keras version 2.10.0\n"
     ]
    }
   ],
   "source": [
    "import numpy as np\n",
    "import tensorflow as tf\n",
    "import keras\n",
    "print(\"Using tensorflow version \" + str(tf.__version__))\n",
    "print(\"Using keras version \" + str(keras.__version__))"
   ]
  },
  {
   "cell_type": "markdown",
   "metadata": {},
   "source": [
    "## 2. MNIST Dataset import and preparation\n",
    "Load the MNIST dataset made available by keras.datasets. Check the size of the training and testing sets. \n"
   ]
  },
  {
   "cell_type": "code",
   "execution_count": 5,
   "metadata": {},
   "outputs": [
    {
     "name": "stdout",
     "output_type": "stream",
     "text": [
      "Size of train_images :  (60000, 28, 28)\n",
      "Size of train_labels :  (60000,)\n",
      "Size of test_images :  (10000, 28, 28)\n",
      "Size of test_labels :  (10000,)\n"
     ]
    }
   ],
   "source": [
    "# The MNSIT dataset is ready to be imported from Keras into RAM\n",
    "# Warning: you cannot do that for larger databases (e.g., ImageNet)\n",
    "from keras.datasets import mnist\n",
    "(train_images, train_labels), (test_images, test_labels) = keras.datasets.mnist.load_data()\n",
    "print(\"Size of train_images : \",train_images.shape)\n",
    "print(\"Size of train_labels : \",train_labels.shape)\n",
    "print(\"Size of test_images : \",test_images.shape)\n",
    "print(\"Size of test_labels : \",test_labels.shape)\n"
   ]
  },
  {
   "cell_type": "markdown",
   "metadata": {},
   "source": [
    "The MNIST database contains 60,000 training images and 10,000 testing images.\n",
    "Using the pyplot package, visualize the first sample of the training set:\n"
   ]
  },
  {
   "cell_type": "code",
   "execution_count": 6,
   "metadata": {},
   "outputs": [
    {
     "data": {
      "text/plain": [
       "<matplotlib.image.AxesImage at 0x21aa33b7940>"
      ]
     },
     "execution_count": 6,
     "metadata": {},
     "output_type": "execute_result"
    },
    {
     "data": {
      "image/png": "[encoded data removed]",
      "text/plain": [
       "<Figure size 640x480 with 1 Axes>"
      ]
     },
     "metadata": {},
     "output_type": "display_data"
    }
   ],
   "source": [
    "# Let us visualize the first training sample using the Matplotlib library with the imshow function\n",
    "from matplotlib import pyplot as plt\n",
    "\n",
    "plt.imshow(train_images[0],cmap='gray')\n"
   ]
  },
  {
   "cell_type": "markdown",
   "metadata": {},
   "source": [
    "The database contains images of handwritten digits. Hence, they belong to one of 10 categories, depending on the digit they represent. \n",
    "Reminder: in order to do multi-class classification, we use the **softmax function**, which outputs a multinomial probability distribution. That means that the output to our model will be a vector of size $10$, containing probabilities (meaning that the elements of the vector will be positive sum to $1$).\n",
    "For easy computation, we want to true labels to be represented with the same format: that is what we call **one-hot encoding**. For example, if an image $\\mathbf{x}$ represents the digit $5$, we have the corresponding one_hot label (careful, $0$ will be the first digit): \n",
    "$$ \\mathbf{y} = [0, 0, 0, 0, 0, 1, 0, 0, 0, 0] $$\n",
    "Here, you need to turn train and test labels to one-hot encoding using the following function: "
   ]
  },
  {
   "cell_type": "code",
   "execution_count": 7,
   "metadata": {},
   "outputs": [],
   "source": [
    "from keras.utils import to_categorical\n",
    "\n",
    "train_labels = to_categorical(train_labels,num_classes=10)\n",
    "test_labels = to_categorical(test_labels,num_classes=10)"
   ]
  },
  {
   "cell_type": "markdown",
   "metadata": {},
   "source": [
    "Images are black and white, with size $28 \\times 28$. We will work with them using a simple linear classification model, meaning that we will have them as vectors of size $(784)$.\n",
    "You should then transform the images to the size $(784)$ using the numpy function ```reshape```.\n",
    "\n",
    "Then, after casting the pixels to floats, normalize the images so that they have zero-mean and unitary deviation. Be careful to your methodology: while you have access to training data, you may not have access to testing data, and must avoid using any statistic on the testing dataset."
   ]
  },
  {
   "cell_type": "code",
   "execution_count": 8,
   "metadata": {},
   "outputs": [],
   "source": [
    "# Reshape images to vectors of pixels\n",
    "img_rows, img_cols = train_images.shape[1], train_images.shape[2]\n",
    "train_images = train_images.reshape(train_images.shape[0],784)\n",
    "test_images = test_images.reshape(test_images.shape[0],784)\n",
    "\n",
    "\n",
    "# Cast pixels from uint8 to float32\n",
    "train_images = train_images.astype('float32')\n",
    "test_images = test_images.astype('float32')\n",
    "\n",
    "# Now let us normalize the images so that they have zero mean and standard deviation\n",
    "train_mean = np.mean(train_images)\n",
    "train_std = np.std(train_images)\n",
    "train_images = (train_images - train_mean)/train_std\n",
    "test_images = (test_images - train_mean)/train_std"
   ]
  },
  {
   "cell_type": "markdown",
   "metadata": {},
   "source": [
    "## 3. Working with Numpy\n",
    "\n",
    "Look at this [cheatsheet](https://s3.amazonaws.com/assets.datacamp.com/blog_assets/Numpy_Python_Cheat_Sheet.pdf) for some basic information on how to use numpy.\n",
    "\n",
    "### 3.1 Defining the model \n",
    "\n",
    "We will here create a simple, linear classification model. We will take each pixel in the image as an input feature (making the size of the input to be $784$) and transform these features with a weight matrix $\\mathbf{W}$ and a bias vector $\\mathbf{b}$. Since there is $10$ possible classes, we want to obtain $10$ scores. Then, \n",
    "$$ \\mathbf{W} \\in \\mathbb{R}^{784 \\times 10} $$\n",
    "$$ \\mathbf{b} \\in \\mathbb{R}^{10} $$\n",
    "\n",
    "and our scores are obtained with:\n",
    "$$ \\mathbf{z} = \\mathbf{W}^{T} \\mathbf{x} +  \\mathbf{b} $$\n",
    "\n",
    "where $\\mathbf{x} \\in \\mathbb{R}^{784}$ is the input vector representing an image.\n",
    "We note $\\mathbf{y} \\in \\mathbb{R}^{10}$ as the target one_hot vector. \n",
    "\n",
    "Here, you fist need to initialize $\\mathbf{W}$ and $\\mathbf{b}$ using ```np.random.normal``` and ```np.zeros```, then compute $\\mathbf{z}$."
   ]
  },
  {
   "cell_type": "code",
   "execution_count": 9,
   "metadata": {},
   "outputs": [],
   "source": [
    "# To avoid implementing a complicated gradient back-propagation,\n",
    "# we will try a very simple architecture with one layer \n",
    "def initLayer(n_input,n_output):\n",
    "    \"\"\"\n",
    "    Initialize the weights, return the number of parameters\n",
    "    Inputs: n_input: the number of input units - int\n",
    "          : n_output: the number of output units - int\n",
    "    Outputs: W: a matrix of weights for the layer - numpy ndarray\n",
    "           : b: a vector bias for the layer - numpy ndarray\n",
    "           : nb_params: the number of parameters  - int\n",
    "    \"\"\"\n",
    "\n",
    "    \n",
    "    # Create W at the right size with a normal distribution\n",
    "    W = np.random.normal(0.0,1.0,(n_input,n_output))\n",
    "    # Create b at the right size, with zeros\n",
    "    b = np.zeros((n_output))\n",
    "    nb_params = (n_input+1)*n_output\n",
    "    return W, b, nb_params"
   ]
  },
  {
   "cell_type": "code",
   "execution_count": 10,
   "metadata": {},
   "outputs": [],
   "source": [
    "n_training = train_images.shape[0] \n",
    "n_feature = img_rows * img_cols\n",
    "n_labels = 10\n",
    "W, b, nb_params = initLayer(n_feature, n_labels)"
   ]
  },
  {
   "cell_type": "code",
   "execution_count": 11,
   "metadata": {},
   "outputs": [],
   "source": [
    "def forward(W, b, X):\n",
    "    \"\"\"\n",
    "    Perform the forward propagation\n",
    "    Inputs: W: the weights - numpy ndarray\n",
    "          : b: the bias - numpy ndarray\n",
    "          : X: the batch - numpy ndarray\n",
    "    Outputs: z: outputs - numpy ndarray\n",
    "    \"\"\"\n",
    "\n",
    "    z = W.T @ X + b\n",
    "    return z"
   ]
  },
  {
   "cell_type": "markdown",
   "metadata": {},
   "source": [
    "### 3.2 Computing the output \n",
    "\n",
    "To obtain classification probabilities, we use the softmax function:\n",
    "$$ \\mathbf{o} = softmax(\\mathbf{z}) \\text{         with          } o_i = \\frac{\\exp(z_i)}{\\sum_{j=0}^{9} \\exp(z_j)} $$\n",
    "\n",
    "The usual difficulty with the softmax function is the possibility of overflow when the scores $z_i$ are already large. Since a softmax is not affected by a shift affecting the whole vector $\\mathbf{z}$:\n",
    "$$ \\frac{\\exp(z_i - c)}{\\sum_{j=0}^{9} \\exp(z_j - c)} =  \\frac{\\exp(c) \\exp(z_i)}{\\exp(c) \\sum_{j=0}^{9} \\exp(z_j)} = \\frac{\\exp(z_i)}{\\sum_{j=0}^{9} \\exp(z_j)}$$"
   ]
  },
  {
   "cell_type": "code",
   "execution_count": 12,
   "metadata": {},
   "outputs": [],
   "source": [
    "def softmax(z):\n",
    "    \"\"\"\n",
    "    Perform the softmax transformation to the pre-activation values\n",
    "    Inputs: z: the pre-activation values - numpy ndarray\n",
    "    Outputs: out: the activation values - numpy ndarray\n",
    "    \"\"\"\n",
    "    z_mean = np.mean(z)\n",
    "    z_sum_exp = np.sum(np.exp(z-z_mean))\n",
    "    return np.exp(z-z_mean)/z_sum_exp"
   ]
  },
  {
   "cell_type": "markdown",
   "metadata": {},
   "source": [
    "### 3.3 Making updates\n",
    "\n",
    "We define a learning rate $\\eta$. The goal is to be able to apply updates:\n",
    "$$ \\mathbf{W}^{t+1} = \\mathbf{W}^{t} + \\nabla_{\\mathbf{W}} l_{MLE} $$\n",
    "\n",
    "In order to do this, we will compute this gradient (and the bias) in the function ```update```. In the next function ```updateParams```, we will actually apply the update with regularization. \n",
    "\n",
    "Reminder: the gradient $\\nabla_{\\mathbf{W}} l_{MLE}$ is the matrix containing the partial derivatives \n",
    "$$ \\left[\\frac{\\delta l_{MLE}}{\\delta W_{ij}}\\right]_{i=1..784, j=1..10} $$\n",
    "**Remark**: Careful, the usual way of implementing this in python has the dimensions of $\\mathbf{W}$ reversed compared to the notation of the slides.\n",
    "\n",
    "Coordinate by coordinate, we obtain the following update: \n",
    "$$ W_{ij}^{t+1} = W_{ij}^{t} + \\eta \\frac{\\delta l_{MLE}}{\\delta W_{ij}} $$\n",
    "\n",
    "Via the chain rule, we obtain, for an input feature $i \\in [0, 783]$ and a output class $j \\in [0, 9]$: $$\\frac{\\delta l_{MLE}}{\\delta W_{ij}} = \\frac{\\delta l_{MLE}}{\\delta z_{j}} \\frac{\\delta z_j}{\\delta W_{ij}}$$ \n",
    "\n",
    "It's easy to compute that $\\frac{\\delta z_j}{\\delta W_{ij}} = x_i$\n",
    "\n",
    "We compute the softmax derivative, to obtain:\n",
    "$$ \\nabla_{\\mathbf{z}} l_{MLE} = \\mathbf{o} - \\mathbf{y} $$\n",
    "\n",
    "Hence, $\\frac{\\delta l_{MLE}}{\\delta z_{j}} = o_j - y_j$ and we obtain that $$\\frac{\\delta l_{MLE}}{\\delta W_{ij}} = (o_j - y_j) x_i$$\n",
    "\n",
    "This can easily be written as a scalar product, and a similar computation (even easier, actually) can be done for $\\mathbf{b}$. Noting $\\nabla_{\\mathbf{z}} l_{MLE} = \\mathbf{o} - \\mathbf{y}$ as ```grad``` in the following function, compute the gradients $\\nabla_{\\mathbf{W}} l_{MLE}$ and $\\nabla_{\\mathbf{b}} l_{MLE}$ in order to call the function ```updateParams```.\n",
    "\n",
    "Note: the regularizer and the weight_decay $\\lambda$ are used in ```updateParams```.\n"
   ]
  },
  {
   "cell_type": "code",
   "execution_count": 13,
   "metadata": {},
   "outputs": [],
   "source": [
    "def updateParams(param, grad_param, eta, regularizer=None, weight_decay=0.):\n",
    "    \"\"\"\n",
    "    Perform the update of the parameters\n",
    "    Inputs: param: the network parameters - ndarray\n",
    "          : grad_param: the updates of the parameters - ndarray\n",
    "          : eta: the step-size of the gradient descent - float\n",
    "          : weight_decay: the weight-decay - float\n",
    "    Outputs: the parameters updated - ndarray\n",
    "    \"\"\"\n",
    "    if regularizer==None:\n",
    "        return param - eta*grad_param\n",
    "    elif regularizer=='L2':\n",
    "        return (1-2*weight_decay)*param - eta*grad_param\n",
    "    else:\n",
    "        raise NotImplementedError"
   ]
  },
  {
   "cell_type": "code",
   "execution_count": 14,
   "metadata": {},
   "outputs": [],
   "source": [
    "def update(eta, W, b, grad, X, regularizer, weight_decay):\n",
    "    \"\"\"\n",
    "    Perform the update of the parameters\n",
    "    Inputs: eta: the step-size of the gradient descent - float \n",
    "          : W: the weights - ndarray\n",
    "          : b: the bias -  ndarray\n",
    "          : grad: the gradient of the activations w.r.t. to the loss -  list of ndarray\n",
    "          : X: the data -  ndarray\n",
    "          : regularizer: 'L2' or None - the regularizer to be used in updateParams\n",
    "          : weight_decay: the weight decay to be used in updateParams - float\n",
    "    Outputs: W: the weights updated -  ndarray\n",
    "           : b: the bias updated -  ndarray\n",
    "    \"\"\"\n",
    "    grad_w = X.reshape(X.shape[0],1) @ grad.reshape(grad.shape[0],1).T\n",
    "    grad_b = grad\n",
    "    W = updateParams(W, grad_w, eta, regularizer, weight_decay)\n",
    "    b = updateParams(b, grad_b, eta, regularizer, weight_decay)\n",
    "    return W, b"
   ]
  },
  {
   "cell_type": "markdown",
   "metadata": {},
   "source": [
    "### 3.4 Computing the Accuracy\n",
    "\n",
    "Here, we simply use the model to predict the class (by taking the argmax of the output !) for every example in ```X```, and count the number of times the model is right, to output the accuracy."
   ]
  },
  {
   "cell_type": "code",
   "execution_count": 15,
   "metadata": {},
   "outputs": [],
   "source": [
    "def computeAcc(W, b, X, labels):\n",
    "    \"\"\"\n",
    "    Compute the loss value of the current network on the full batch\n",
    "    Inputs: act_func: the activation function - function\n",
    "          : W: the weights - list of ndarray\n",
    "          : B: the bias - list of ndarray\n",
    "          : X: the batch - ndarray\n",
    "          : labels: the labels corresponding to the batch\n",
    "    Outputs: loss: the negative log-likelihood - float\n",
    "           : accuracy: the ratio of examples that are well-classified - float\n",
    "    \"\"\" \n",
    "    correct_preds = 0\n",
    "    for i,x in enumerate(X) :\n",
    "      # Forward propagation\n",
    "      z = forward(W,b,x)\n",
    "      \n",
    "      # Compute the softmax and the prediction\n",
    "      out = softmax(z)\n",
    "      pred = out.argmax()\n",
    "      correct_preds += labels[i][pred]\n",
    "    \n",
    "    # Compute the accuracy\n",
    "    accuracy = correct_preds/X.shape[0]\n",
    "      \n",
    "    return accuracy"
   ]
  },
  {
   "cell_type": "markdown",
   "metadata": {},
   "source": [
    "### 3.5 Preparing training\n",
    "\n",
    "The following hyperparameters are given. Next, we can assemble all the function previously defined to implement a training loop. We will train the classifier on **one epoch**, meaning that the model will see each training example once. "
   ]
  },
  {
   "cell_type": "code",
   "execution_count": 16,
   "metadata": {},
   "outputs": [],
   "source": [
    "# Optimization\n",
    "eta = 0.01\n",
    "regularizer = 'L2'\n",
    "weight_decay = 0.0001\n",
    "\n",
    "# Training\n",
    "log_interval = 5000"
   ]
  },
  {
   "cell_type": "code",
   "execution_count": 17,
   "metadata": {},
   "outputs": [
    {
     "name": "stdout",
     "output_type": "stream",
     "text": [
      "0 0.06975 0.0663 0.01\n",
      "5000 0.83585 0.8401 0.01\n",
      "10000 0.8325833333333333 0.8402 0.01\n",
      "15000 0.8334666666666667 0.8392 0.01\n",
      "20000 0.84495 0.8478 0.01\n",
      "25000 0.8217166666666667 0.8312 0.01\n",
      "30000 0.7977833333333333 0.8008 0.01\n",
      "35000 0.7719 0.7707 0.01\n",
      "40000 0.8276833333333333 0.8276 0.01\n",
      "45000 0.8518833333333333 0.8549 0.01\n",
      "50000 0.8346833333333333 0.8401 0.01\n",
      "55000 0.8029166666666666 0.8008 0.01\n",
      "Final result: 0.8029166666666666 0.8008 0.01\n"
     ]
    }
   ],
   "source": [
    "# Data structures for plotting\n",
    "g_train_acc=[]\n",
    "g_valid_acc=[]\n",
    "\n",
    "#######################\n",
    "### Learning process ##\n",
    "#######################\n",
    "\n",
    "W, b, nb_params = initLayer(n_feature, n_labels)\n",
    "for j in range(n_training):\n",
    "    # Getting the example\n",
    "    X, y = train_images[j],train_labels[j]\n",
    "\n",
    "    # Forward propagation\n",
    "    z = forward(W,b,X)\n",
    "    \n",
    "    # Compute the softmax\n",
    "    out = softmax(z)\n",
    "        \n",
    "    # Compute the gradient at the top layer\n",
    "    \n",
    "    derror = out - y # This is o - y \n",
    "    \n",
    "    # Update the parameters\n",
    "    \n",
    "    W, b = update(eta, W, b, derror, X, regularizer, weight_decay)\n",
    "    \n",
    "\n",
    "    if j % log_interval == 0:\n",
    "        # Every log_interval examples, look at the training accuracy\n",
    "        train_accuracy = computeAcc(W, b, train_images, train_labels) \n",
    "\n",
    "        # And the testing accuracy\n",
    "        test_accuracy = computeAcc(W, b, test_images, test_labels) \n",
    "\n",
    "        g_train_acc.append(train_accuracy)\n",
    "        g_valid_acc.append(test_accuracy)\n",
    "        result_line = str(int(j)) + \" \" + str(train_accuracy) + \" \" + str(test_accuracy) + \" \" + str(eta)\n",
    "        print(result_line)\n",
    "\n",
    "g_train_acc.append(train_accuracy)\n",
    "g_valid_acc.append(test_accuracy)\n",
    "result_line = \"Final result:\" + \" \" + str(train_accuracy) + \" \" + str(test_accuracy) + \" \" + str(eta)\n",
    "print(result_line)     "
   ]
  },
  {
   "cell_type": "markdown",
   "metadata": {},
   "source": [
    "## 4. Autoencoders with Keras\n",
    "### 4.1 Autoencoder and PCA\n",
    "\n",
    "First, we will try to connect the representation produced by Principal Component Analysis with what is learnt by a simple, linear, autoencoder. We will use the ```scikit-learn``` implementation of the ```PCA``` to obtain the two first components (hint: use the attribute ```.components_```), and visualize them:\n"
   ]
  },
  {
   "cell_type": "code",
   "execution_count": 26,
   "metadata": {},
   "outputs": [
    {
     "data": {
      "text/plain": [
       "Text(0.5, 0, 'Second Principal Component')"
      ]
     },
     "execution_count": 26,
     "metadata": {},
     "output_type": "execute_result"
    },
    {
     "data": {
      "image/png": "[encoded data removed]",
      "text/plain": [
       "<Figure size 640x480 with 2 Axes>"
      ]
     },
     "metadata": {},
     "output_type": "display_data"
    }
   ],
   "source": [
    "from sklearn.decomposition import PCA\n",
    "\n",
    "# Let's find the first 2 PCA components\n",
    "num_components = 2\n",
    "pca = PCA(n_components=num_components).fit(train_images)\n",
    "\n",
    "# Reshape so they resemble images and we can print them\n",
    "eigen_mnist = pca.components_.reshape(2,28,28)\n",
    "\n",
    "# Show the reshaped principal components\n",
    "f, ax = plt.subplots(1,2)\n",
    "ax[0].imshow(eigen_mnist[0], cmap='gray')\n",
    "ax[0].set_xlabel('First Principal Component')\n",
    "ax[1].imshow(eigen_mnist[1], cmap='gray')\n",
    "ax[1].set_xlabel('Second Principal Component')"
   ]
  },
  {
   "cell_type": "code",
   "execution_count": 27,
   "metadata": {},
   "outputs": [
    {
     "data": {
      "text/plain": [
       "array([0.09703726, 0.07094982], dtype=float32)"
      ]
     },
     "execution_count": 27,
     "metadata": {},
     "output_type": "execute_result"
    }
   ],
   "source": [
    "# Print the variance explained by those components\n",
    "pca.explained_variance_ratio_"
   ]
  }
 ],
 "metadata": {
  "kernelspec": {
   "display_name": "Python 3",
   "language": "python",
   "name": "python3"
  },
  "language_info": {
   "codemirror_mode": {
    "name": "ipython",
    "version": 3
   },
   "file_extension": ".py",
   "mimetype": "text/x-python",
   "name": "python",
   "nbconvert_exporter": "python",
   "pygments_lexer": "ipython3",
   "version": "3.10.13"
  }
 },
 "nbformat": 4,
 "nbformat_minor": 2
}
